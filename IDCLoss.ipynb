{
 "cells": [
  {
   "cell_type": "code",
   "execution_count": 14,
   "metadata": {},
   "outputs": [],
   "source": [
    "import numpy as np\n",
    "import torch\n",
    "import torch.nn as nn\n",
    "import math"
   ]
  },
  {
   "cell_type": "code",
   "execution_count": 5,
   "metadata": {},
   "outputs": [],
   "source": [
    "def euclideanDist(p,q):\n",
    "    x = p-q\n",
    "    t = 0\n",
    "    for i in range(x.shape[0]):\n",
    "        t+=x[i]**2\n",
    "    f = math.sqrt(t)\n",
    "    return f"
   ]
  },
  {
   "cell_type": "code",
   "execution_count": 29,
   "metadata": {},
   "outputs": [],
   "source": [
    "activation = {}\n",
    "def getActivation(name):\n",
    "  # the hook signature\n",
    "  def hook(model, input, output):\n",
    "    activation[name] = output.detach()\n",
    "  return hook\n"
   ]
  },
  {
   "cell_type": "code",
   "execution_count": 34,
   "metadata": {},
   "outputs": [],
   "source": [
    "def rl(anchor,neighbor,feat,labels):\n",
    "    x = euclideanDist(feat[anchor],feat[neighbor])\n",
    "    y = euclideanDist(labels[anchor],labels[neighbor])\n",
    "    return x/y"
   ]
  },
  {
   "cell_type": "code",
   "execution_count": 41,
   "metadata": {},
   "outputs": [],
   "source": [
    "def IDCLoss(features,labels):\n",
    "    flat = nn.Flatten()\n",
    "    # converts tensor of size(12,512,1,1) to (12,512)\n",
    "    f = nn.functional.normalize(features,p=2)\n",
    "    feat = flat(f)\n",
    "    noAnchors = int((feat.shape[0])/3)\n",
    "    loss = 0\n",
    "    for k in range(noAnchors):\n",
    "        a = k*3 + 1\n",
    "        i = a-1\n",
    "        j = a+1\n",
    "        rai=0\n",
    "        raj=0\n",
    "        if labels[i]!=labels[a]:\n",
    "            rai = rl(a,i,feat,labels)\n",
    "        if labels[a]!=labels[j]:\n",
    "            raj = rl(a,j,feat,labels)\n",
    "        if rai==0 and raj==0:\n",
    "            comp1 = 1\n",
    "            comp2 = 1\n",
    "        if rai!=0 and raj == 0:\n",
    "            comp1 = rai/(rai+raj)\n",
    "            comp2 = 1\n",
    "        if rai == 0 and raj!=0:\n",
    "            comp1 = 1\n",
    "            comp2 = raj/(rai+raj)\n",
    "        elif rai!=0 and raj!=0:\n",
    "            comp1 = rai/(rai+raj)\n",
    "            comp2 = raj/(rai+raj) \n",
    "        y = torch.log10(torch.tensor(comp1))+torch.log10(torch.tensor(comp2))\n",
    "        loss+=y\n",
    "    return loss"
   ]
  },
  {
   "cell_type": "code",
   "execution_count": 42,
   "metadata": {},
   "outputs": [
    {
     "name": "stdout",
     "output_type": "stream",
     "text": [
      "rai: 0\n",
      "raj: 0\n",
      "1\n",
      "loss for 0 iteration is 0.0:\n",
      "For ai\n",
      "Features dist: 0.39884172584692945\n",
      "label dist 5.0\n",
      "For aj\n",
      "Features dist: 0.36254690951520013\n",
      "label dist 5.0\n",
      "rai: 0.07976834516938588\n",
      "raj: 0.07250938190304003\n",
      "4\n",
      "loss for 1 iteration is -0.6030479669570923:\n",
      "For ai\n",
      "Features dist: 0.7873882048788464\n",
      "label dist 2.0\n",
      "For aj\n",
      "Features dist: 0.7954766784648104\n",
      "label dist 2.0\n",
      "rai: 0.3936941024394232\n",
      "raj: 0.3977383392324052\n",
      "4\n",
      "loss for 2 iteration is -0.6020712852478027:\n",
      "rai: 0\n",
      "raj: 0\n",
      "1\n",
      "loss for 3 iteration is 0.0:\n"
     ]
    }
   ],
   "source": [
    "y = IDCLoss(features,lab)"
   ]
  },
  {
   "cell_type": "code",
   "execution_count": 44,
   "metadata": {},
   "outputs": [
    {
     "name": "stdout",
     "output_type": "stream",
     "text": [
      "tensor(-1.2051)\n"
     ]
    }
   ],
   "source": [
    "print(y)\n",
    "    "
   ]
  },
  {
   "cell_type": "code",
   "execution_count": 45,
   "metadata": {},
   "outputs": [
    {
     "name": "stdout",
     "output_type": "stream",
     "text": [
      "tensor(-1.2051)\n"
     ]
    }
   ],
   "source": [
    "print(y)"
   ]
  },
  {
   "cell_type": "code",
   "execution_count": null,
   "metadata": {},
   "outputs": [],
   "source": []
  }
 ],
 "metadata": {
  "kernelspec": {
   "display_name": "newenv",
   "language": "python",
   "name": "python3"
  },
  "language_info": {
   "codemirror_mode": {
    "name": "ipython",
    "version": 3
   },
   "file_extension": ".py",
   "mimetype": "text/x-python",
   "name": "python",
   "nbconvert_exporter": "python",
   "pygments_lexer": "ipython3",
   "version": "3.10.9"
  },
  "orig_nbformat": 4
 },
 "nbformat": 4,
 "nbformat_minor": 2
}
