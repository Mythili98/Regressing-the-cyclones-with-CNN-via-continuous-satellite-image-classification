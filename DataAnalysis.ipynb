{
 "cells": [
  {
   "cell_type": "code",
   "execution_count": null,
   "id": "3079dc60-d5ea-422a-b3cc-16d03280882a",
   "metadata": {},
   "outputs": [],
   "source": [
    "import numpy as np\n",
    "from matplotlib import pyplot as plt\n",
    "import pandas as pd\n",
    "import random\n",
    "from mpl_toolkits.axes_grid1 import ImageGrid"
   ]
  },
  {
   "cell_type": "markdown",
   "id": "f1cc4826-6383-48f2-aa61-999d5b90e16b",
   "metadata": {},
   "source": [
    "PWM data filtering."
   ]
  },
  {
   "cell_type": "code",
   "execution_count": null,
   "id": "d0369190-2021-47e6-9966-9d153a40efd6",
   "metadata": {},
   "outputs": [],
   "source": [
    "dataIR = np.load(\"/home/desktop/Desktop/22104412_Docs/CVDL/Tropical Cyclone Intensity Estimation/TCIR/Dataset-Extracted-ATLN-EPAC-SH-IO/FInalDataset-Training/Resize224x224/irDataArray.npy\")"
   ]
  },
  {
   "cell_type": "code",
   "execution_count": null,
   "id": "ae5394f2-22d6-4503-a667-6bf3aa197b0f",
   "metadata": {},
   "outputs": [],
   "source": [
    "dataInfo = '/home/desktop/Desktop/22104412_Docs/CVDL/Tropical Cyclone Intensity Estimation/TCIR/TCIR-ATLN_EPAC_WPAC.h5'\n",
    "Info = pd.read_hdf(dataInfo, key=\"info\",mode = 'r')"
   ]
  },
  {
   "cell_type": "code",
   "execution_count": null,
   "id": "a625878c-8f13-4e04-8c8d-d56fbe31fa89",
   "metadata": {},
   "outputs": [],
   "source": [
    "time1 = Info['time']"
   ]
  },
  {
   "cell_type": "code",
   "execution_count": null,
   "id": "f5e3fd17-cfd1-461a-a0e5-1180fec57114",
   "metadata": {},
   "outputs": [],
   "source": [
    "vmax1 = Info['Vmax']"
   ]
  },
  {
   "cell_type": "code",
   "execution_count": null,
   "id": "52200e35-e403-4c79-8f47-200d08cc5c5c",
   "metadata": {},
   "outputs": [],
   "source": [
    "dataInfo2 = '/home/desktop/Desktop/22104412_Docs/CVDL/Tropical Cyclone Intensity Estimation/TCIR/TCIR-CPAC_IO_SH.h5'\n",
    "Info2 = pd.read_hdf(dataInfo2, key = \"info\", mode = 'r')"
   ]
  },
  {
   "cell_type": "code",
   "execution_count": null,
   "id": "c1759578-9214-4ffa-886b-b795b0e2e526",
   "metadata": {},
   "outputs": [],
   "source": [
    "InfoF = pd.concat((Info,Info2))"
   ]
  },
  {
   "cell_type": "code",
   "execution_count": null,
   "id": "da11bd73-25ec-4743-b872-b2e08e51b973",
   "metadata": {},
   "outputs": [],
   "source": [
    "time2 = Info2['time']"
   ]
  },
  {
   "cell_type": "code",
   "execution_count": null,
   "id": "2e031c7c-f301-46bb-b904-f13786c15551",
   "metadata": {},
   "outputs": [],
   "source": [
    "vmax2 = Info2['Vmax']"
   ]
  },
  {
   "cell_type": "code",
   "execution_count": null,
   "id": "df265c44-11b1-460c-9c04-5c652a084b32",
   "metadata": {},
   "outputs": [],
   "source": [
    "vmax1 = np.array(vmax1)\n",
    "vmax2 = np.array(vmax2)"
   ]
  },
  {
   "cell_type": "code",
   "execution_count": null,
   "id": "9f10ee0b-3c7c-4ddc-b9ac-ca04f125d81e",
   "metadata": {},
   "outputs": [],
   "source": [
    "vmax = np.hstack((vmax1,vmax2))"
   ]
  },
  {
   "cell_type": "code",
   "execution_count": null,
   "id": "dbb8b342-1932-402e-bbb5-df6251d12d9f",
   "metadata": {},
   "outputs": [],
   "source": [
    "vmax.shape"
   ]
  },
  {
   "cell_type": "code",
   "execution_count": null,
   "id": "2edda761-9449-4824-b8e4-d7ecb6654728",
   "metadata": {},
   "outputs": [],
   "source": [
    "y = np.where(np.isnan(dataIR))"
   ]
  },
  {
   "cell_type": "code",
   "execution_count": null,
   "id": "9c3cc6a8-906a-4d34-bb83-5fe44b33b4fc",
   "metadata": {},
   "outputs": [],
   "source": [
    "z = (np.unique(y[0])).tolist()"
   ]
  },
  {
   "cell_type": "code",
   "execution_count": null,
   "id": "1be01dfc-725c-4c77-8986-35dbc72e20bc",
   "metadata": {},
   "outputs": [],
   "source": [
    "len(z)"
   ]
  },
  {
   "cell_type": "code",
   "execution_count": null,
   "id": "f2f301e8-9b7b-40a9-8b76-d64c682b324b",
   "metadata": {},
   "outputs": [],
   "source": [
    "c1 = np.where(vmax<20)\n",
    "c2 = np.where((vmax>=20) & (vmax<=33))\n",
    "c3 = np.where((vmax>=34) & (vmax<=63))\n",
    "c4 = np.where((vmax>=64) & (vmax<=82))\n",
    "c5 = np.where((vmax>=83) & (vmax<=95))\n",
    "c6 = np.where((vmax>=96) & (vmax<=112))\n",
    "c7 = np.where((vmax>=113) & (vmax<=136))\n",
    "c8 = np.where(vmax>=137)"
   ]
  },
  {
   "cell_type": "code",
   "execution_count": null,
   "id": "6e48d30f-118a-4090-9e21-efd6f0605ffe",
   "metadata": {},
   "outputs": [],
   "source": [
    "def filter_images(images, threshold):\n",
    "    filtered_images = []\n",
    "    indexnew = []\n",
    "    count = 0\n",
    "    for image in images:\n",
    "        count = count+1\n",
    "        y = np.argwhere(np.isnan(image))\n",
    "        num_nan_pixels = y.shape[0]\n",
    "        total_pixels = image.shape[0] * image.shape[1]\n",
    "        percent_nan = num_nan_pixels / total_pixels\n",
    "        if percent_nan <= threshold:\n",
    "            filtered_images.append(image)\n",
    "            indexnew.append(count)\n",
    "    return filtered_images, indexnew\n",
    "\n",
    "imagesp, index = filter_images(dataIR, 0.1)"
   ]
  },
  {
   "cell_type": "code",
   "execution_count": null,
   "id": "c8a08d06-7e17-4101-b4b6-b0cf8e652934",
   "metadata": {},
   "outputs": [],
   "source": [
    "len(imagesp)"
   ]
  },
  {
   "cell_type": "code",
   "execution_count": null,
   "id": "d3f540a6-8128-47e8-bcef-bc5d789e7d2b",
   "metadata": {},
   "outputs": [],
   "source": [
    "fig = plt.figure(figsize=(20., 20.))\n",
    "grid = ImageGrid(fig, 111, \n",
    "                 nrows_ncols=(10,10 ),  # creates 2x2 grid of axes\n",
    "                 axes_pad=0,  # pad between axes\n",
    "                )\n",
    "\n",
    "for ax, im in zip(grid, imagesp):\n",
    "    ax.imshow(im, cmap = 'gray')\n",
    "\n",
    "# plt.savefig('examples_NaN_threshold_0.1.png')\n",
    "plt.show()"
   ]
  },
  {
   "cell_type": "code",
   "execution_count": null,
   "id": "052ac104-337d-45ce-9407-24f468c5b9d4",
   "metadata": {},
   "outputs": [],
   "source": [
    "len(imagesp)"
   ]
  },
  {
   "cell_type": "code",
   "execution_count": null,
   "id": "4bc11bbb-6fe0-47de-b03f-d620a0caa33f",
   "metadata": {},
   "outputs": [],
   "source": [
    "index = np.array(index)\n",
    "index = index-1\n",
    "index = index.tolist()"
   ]
  },
  {
   "cell_type": "code",
   "execution_count": null,
   "id": "3c503a55-c098-47dc-8e60-40f4ea6a76bd",
   "metadata": {},
   "outputs": [],
   "source": [
    "len(index)"
   ]
  },
  {
   "cell_type": "code",
   "execution_count": null,
   "id": "6b5773e4-0d2b-4a2a-8d7e-76fc86511ea1",
   "metadata": {},
   "outputs": [],
   "source": [
    "np.save('finalIR.npy',index)"
   ]
  }
 ],
 "metadata": {
  "kernelspec": {
   "display_name": "Python 3 (ipykernel)",
   "language": "python",
   "name": "python3"
  },
  "language_info": {
   "codemirror_mode": {
    "name": "ipython",
    "version": 3
   },
   "file_extension": ".py",
   "mimetype": "text/x-python",
   "name": "python",
   "nbconvert_exporter": "python",
   "pygments_lexer": "ipython3",
   "version": "3.10.9"
  }
 },
 "nbformat": 4,
 "nbformat_minor": 5
}
