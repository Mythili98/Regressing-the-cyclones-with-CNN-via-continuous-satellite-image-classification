{
 "cells": [
  {
   "cell_type": "markdown",
   "id": "fde85012",
   "metadata": {},
   "source": [
    "Importing necessary libraries"
   ]
  },
  {
   "cell_type": "code",
   "execution_count": 3,
   "id": "c282dfc8",
   "metadata": {},
   "outputs": [],
   "source": [
    "import numpy as np\n",
    "import pandas as pd\n",
    "import random\n",
    "import h5py\n",
    "import warnings\n",
    "from matplotlib import pyplot as plt\n",
    "import torch\n",
    "import math\n",
    "import torchvision.models as models\n",
    "import cv2 as cv\n",
    "import time\n",
    "from torch.utils.data import Dataset, DataLoader, Sampler\n",
    "import csv\n",
    "from torchvision.transforms import transforms\n",
    "from tqdm import tqdm\n",
    "import torch.nn as nn\n",
    "import os"
   ]
  },
  {
   "cell_type": "code",
   "execution_count": 4,
   "id": "7f59845c",
   "metadata": {},
   "outputs": [],
   "source": [
    "training_transform  = transforms.Compose([transforms.RandomRotation(90,transforms.InterpolationMode.NEAREST,fill= 450),\n",
    "                                transforms.Normalize(mean=[(0.485+0.456+0.406)/3], std=[(0.229+0.224+0.225)/3]),\n",
    "                                transforms.RandomCrop((150,150)),\n",
    "                                transforms.Resize((224,224))])\n",
    "testing_transform = transforms.Compose([transforms.Normalize(mean=[(0.485+0.456+0.406)/3], std=[(0.229+0.224+0.225)/3]),\n",
    "                                transforms.CenterCrop((150,150)),\n",
    "                                transforms.Resize((224,224))])\n",
    "\n",
    "device = torch.device('cuda') if torch.cuda.is_available() else torch.device('cpu')"
   ]
  },
  {
   "cell_type": "code",
   "execution_count": 53,
   "id": "e064a37a",
   "metadata": {},
   "outputs": [],
   "source": [
    "# class AnchorNeighborIndex(Sampler):\n",
    "#     def __init__(self, dataset, batch_size):\n",
    "#         self.n_samples = len(dataset)\n",
    "#         self.batch_size = batch_size\n",
    "#         lastIndex = [70498]\n",
    "#         self.listIndex = list(range(len(dataset)))+lastIndex\n",
    "#         self.y = np.array_split(self.listIndex,23500)\n",
    "#         self.indexOfIndexes = list(range(len(self.y)))\n",
    "#         random.shuffle(self.indexOfIndexes)  \n",
    "    \n",
    "#     def __iter__(self):\n",
    "#         noOfBatches = self.n_samples//self.batch_size\n",
    "#         noOfChunks = self.batch_size//3\n",
    "#         finalIndexs = [random.sample(self.indexOfIndexes,noOfChunks) for i in range((noOfBatches))]\n",
    "        \n",
    "#         # final indexs are 5875\n",
    "#         batch = [[(self.y[index]) for index in indexs] for indexs in finalIndexs]\n",
    "#         final = [batch[i][0].tolist()+batch[i][1].tolist()+batch[i][2].tolist()+batch[i][3].tolist() for i in range(len(batch))]\n",
    "#         return iter(final)\n",
    "    \n",
    "#     def __len__(self):\n",
    "#         return  self.n_samples//self.batch_size"
   ]
  },
  {
   "cell_type": "code",
   "execution_count": 92,
   "id": "498e051b",
   "metadata": {},
   "outputs": [],
   "source": [
    "class TrainDataset(Dataset):\n",
    "    def __init__(self, irData, dataInfo, transform):\n",
    "        #data loading\n",
    "        self.x = irData\n",
    "        self.y = dataInfo\n",
    "        self.n_samples = irData.shape[0]\n",
    "        self.transform = transform\n",
    "\n",
    "    def __getitem__(self,index):\n",
    "        t1 = self.x[index]\n",
    "        t2 = self.y[index]\n",
    "        if self.transform:\n",
    "            new = torch.tensor(np.array(t1))\n",
    "            # newun = new.unsqueeze(0)\n",
    "            newt1 = self.transform(new)\n",
    "            return (newt1,torch.tensor(t2))\n",
    "        else:\n",
    "            return (t1,t2)\n",
    "    \n",
    "    def __len__(self):\n",
    "        return self.n_samples"
   ]
  },
  {
   "cell_type": "code",
   "execution_count": 93,
   "id": "d4c84829",
   "metadata": {},
   "outputs": [],
   "source": [
    "class ValDataset(Dataset):\n",
    "    def __init__(self,testdata,info,transform):\n",
    "        self.x = testdata\n",
    "        self.y = info\n",
    "        self.n_samples = testdata.shape[0]\n",
    "        self.transform = transform\n",
    "    \n",
    "    def __getitem__(self, index):\n",
    "        im = self.x[index]\n",
    "        lab = self.y[index]\n",
    "        if self.transform:\n",
    "            new1 = torch.tensor(np.array(im))\n",
    "            y = torch.tensor(lab)\n",
    "            # newim = new1.unsqueeze(0)\n",
    "            newt = self.transform(new1)\n",
    "            return (newt,y)\n",
    "        else:\n",
    "            return (im,lab)\n",
    "        \n",
    "    \n",
    "    def __len__(self):\n",
    "        return self.n_samples"
   ]
  },
  {
   "cell_type": "code",
   "execution_count": 94,
   "id": "f847041f",
   "metadata": {},
   "outputs": [],
   "source": [
    "def euclideanDistf(p,q):\n",
    "    x = p-q\n",
    "    t = 0\n",
    "    for i in range(x.shape[0]):\n",
    "        t+=x[i]**2\n",
    "    f = math.sqrt(t)\n",
    "    return f"
   ]
  },
  {
   "cell_type": "code",
   "execution_count": 95,
   "id": "4402edc3",
   "metadata": {},
   "outputs": [],
   "source": [
    "def euclideanDistl(p,q):\n",
    "    x = abs(p-q)\n",
    "    return x"
   ]
  },
  {
   "cell_type": "code",
   "execution_count": 96,
   "id": "ea670a6c",
   "metadata": {},
   "outputs": [],
   "source": [
    "def onehotencoding(labels):\n",
    "    category = []\n",
    "    dataInfo = labels.numpy()\n",
    "    for i in range(dataInfo.shape[0]):\n",
    "        if dataInfo[i]>=137:\n",
    "            category.append([0,0,0,0,0,0,0,1])\n",
    "        elif dataInfo[i]<=136 and dataInfo[i]>=113:\n",
    "            category.append([0,0,0,0,0,0,1,0])\n",
    "        elif dataInfo[i]<=112 and dataInfo[i]>=96:\n",
    "            category.append([0,0,0,0,0,1,0,0])\n",
    "        elif dataInfo[i]<=95 and dataInfo[i]>=83:\n",
    "            category.append([0,0,0,0,1,0,0,0])\n",
    "        elif dataInfo[i]<=82 and dataInfo[i]>=64:\n",
    "            category.append([0,0,0,1,0,0,0,0])\n",
    "        elif dataInfo[i]<=63 and dataInfo[i]>=34:\n",
    "            category.append([0,0,1,0,0,0,0,0])\n",
    "        elif dataInfo[i]<=33 and dataInfo[i]>=20:\n",
    "            category.append([0,1,0,0,0,0,0,0])\n",
    "        elif dataInfo[i]<20:\n",
    "            category.append([1,0,0,0,0,0,0,0])\n",
    "    yhat = torch.tensor(np.array(category))\n",
    "    return yhat"
   ]
  },
  {
   "cell_type": "code",
   "execution_count": 97,
   "id": "fdda6c73",
   "metadata": {},
   "outputs": [],
   "source": [
    "activation = {}\n",
    "def getActivation(name):\n",
    "    def hook(model, input, output):\n",
    "        activation[name] = output.detach()\n",
    "    return hook\n"
   ]
  },
  {
   "cell_type": "code",
   "execution_count": 98,
   "id": "f1ac82c9",
   "metadata": {},
   "outputs": [],
   "source": [
    "def rl(anchor,neighbor,feat,labels):\n",
    "    x = euclideanDistf(feat[anchor],feat[neighbor])\n",
    "    y = euclideanDistl(labels[anchor],labels[neighbor])\n",
    "    return x/y"
   ]
  },
  {
   "cell_type": "markdown",
   "id": "1504f36c",
   "metadata": {},
   "source": [
    "IDC loss is calculated as below:\n",
    "\n",
    "$$l_{IDC} = \\sum_{i=1, y_a\\neq y_i}^N\\log{\\frac{r_{ai}}{\\sum_{j=1, y_j \\neq y_a}^N r_{aj}}}$$"
   ]
  },
  {
   "cell_type": "code",
   "execution_count": 99,
   "id": "bedcd6e4",
   "metadata": {},
   "outputs": [],
   "source": [
    "def IDCLoss(features,labels):\n",
    "    flat = nn.Flatten()\n",
    "    # converts tensor of size(12,512,1,1) to (12,512)\n",
    "    f = nn.functional.normalize(features,p=2)\n",
    "    feat = flat(f)\n",
    "    noAnchors = int((feat.shape[0])/3)\n",
    "    loss = 0\n",
    "    for k in range(noAnchors):\n",
    "        a = k*3 + 1\n",
    "        i = a-1\n",
    "        j = a+1\n",
    "        rai=0\n",
    "        raj=0\n",
    "        if labels[i]!=labels[a]:\n",
    "            rai = rl(a,i,feat,labels)\n",
    "        if labels[a]!=labels[j]:\n",
    "            raj = rl(a,j,feat,labels)\n",
    "        if rai==0 and raj==0:\n",
    "            comp1 = 1\n",
    "            comp2 = 1\n",
    "        if rai!=0 and raj == 0:\n",
    "            comp1 = rai/(rai+raj)\n",
    "            comp2 = 1\n",
    "        if rai == 0 and raj!=0:\n",
    "            comp1 = 1\n",
    "            comp2 = raj/(rai+raj)\n",
    "        elif rai!=0 and raj!=0:\n",
    "            comp1 = rai/(rai+raj)\n",
    "            comp2 = raj/(rai+raj) \n",
    "        y = -(torch.log10(torch.tensor(comp1))+torch.log10(torch.tensor(comp2)))\n",
    "        loss+=y\n",
    "    return loss"
   ]
  },
  {
   "cell_type": "markdown",
   "id": "268d6147",
   "metadata": {},
   "source": [
    "### Reading the Information from the h5 file"
   ]
  },
  {
   "cell_type": "code",
   "execution_count": 110,
   "id": "7a040497",
   "metadata": {},
   "outputs": [],
   "source": [
    "# # dataInfo1 = pd.read_hdf(\"/home/desktop/Desktop/22104412_Docs/CVDL/Tropical Cyclone Intensity Estimation/TCIR/TCIR-ATLN_EPAC_WPAC.h5\", key=\"info\", mode='r')\n",
    "# # dataInfo2 = pd.read_hdf(\"/home/desktop/Desktop/22104412_Docs/CVDL/Tropical Cyclone Intensity Estimation/TCIR/TCIR-CPAC_IO_SH.h5\", key=\"info\", mode='r')\n",
    "# # Vmax1 = dataInfo1['Vmax']\n",
    "# # Vmax2 = dataInfo2['Vmax']\n",
    "# # dataInfo = np.hstack((Vmax1,Vmax2))\n",
    "# # #deleting unnecessary variables to create space in jupyter\n",
    "# # del dataInfo1,dataInfo2,Vmax1,Vmax2\n",
    "\n",
    "# dataInfo = np.load(\"/home/desktop/Desktop/TCIR-CIRL/dataInfo.npy\")"
   ]
  },
  {
   "cell_type": "code",
   "execution_count": 59,
   "id": "0f7d7ca5",
   "metadata": {},
   "outputs": [],
   "source": [
    "#Validation dataset 2017 data\n",
    "pathInfo = '/home/desktop/Desktop/22104412_Docs/CVDL/Tropical Cyclone Intensity Estimation/TCIR/TCIR-ALL_2017.h5'\n",
    "Info = pd.read_hdf(pathInfo, key=\"info\",mode = 'r')\n",
    "dataTest = Info['Vmax']"
   ]
  },
  {
   "cell_type": "code",
   "execution_count": null,
   "id": "50b44a8f-adb9-450a-94ab-fcfbb791f704",
   "metadata": {},
   "outputs": [],
   "source": [
    "dataF = np.load('/home/desktop/Desktop/22104412_Docs/CVDL/CVDL- Possible Models/Implementation - SOTA Baselines/dataTrain.npy')"
   ]
  },
  {
   "cell_type": "code",
   "execution_count": 131,
   "id": "8806c3cd-b3ee-4e67-816a-fe5b63816c82",
   "metadata": {},
   "outputs": [],
   "source": [
    "irTest = np.load('/home/desktop/Desktop/22104412_Docs/CVDL/CVDL- Possible Models/Implementation - SOTA Baselines/irTest.npy')"
   ]
  },
  {
   "cell_type": "code",
   "execution_count": 111,
   "id": "658b23e7",
   "metadata": {},
   "outputs": [],
   "source": [
    "# # load \"matrix\" as numpy ndarray, this could take longer times\n",
    "# with h5py.File(pathInfo, 'r') as hf:\n",
    "#     data_matrix = hf['matrix'][:]"
   ]
  },
  {
   "cell_type": "code",
   "execution_count": 112,
   "id": "84824824",
   "metadata": {},
   "outputs": [],
   "source": [
    "# irTest = data_matrix[:,:,:,[0,3]]\n",
    "# irTest[np.isnan(irTest)] = 0"
   ]
  },
  {
   "cell_type": "code",
   "execution_count": 113,
   "id": "56491a77-f6de-4f48-b894-fbb4723257c9",
   "metadata": {},
   "outputs": [],
   "source": [
    "# irTest = torch.tensor(irTest)"
   ]
  },
  {
   "cell_type": "code",
   "execution_count": 114,
   "id": "86f3cee8-f150-47e2-a569-a4a454b7a0c6",
   "metadata": {},
   "outputs": [],
   "source": [
    "# irTest = irTest.permute(0,3,1,2)"
   ]
  },
  {
   "cell_type": "code",
   "execution_count": 115,
   "id": "bbf4d2e7-9371-4720-9fce-25450f9c70a6",
   "metadata": {},
   "outputs": [],
   "source": [
    "# irTest.shape"
   ]
  },
  {
   "cell_type": "code",
   "execution_count": 116,
   "id": "420d9352-6414-4c69-b9b9-2691647da550",
   "metadata": {},
   "outputs": [],
   "source": [
    "# irTest = irTest.numpy()"
   ]
  },
  {
   "cell_type": "code",
   "execution_count": 117,
   "id": "b1948be4-035f-44d9-862d-82deb8f553ba",
   "metadata": {},
   "outputs": [],
   "source": [
    "# irTest.shape"
   ]
  },
  {
   "cell_type": "markdown",
   "id": "6ab3d7bb",
   "metadata": {},
   "source": [
    "<!-- COmbining the files -->"
   ]
  },
  {
   "cell_type": "code",
   "execution_count": 118,
   "id": "e511d175",
   "metadata": {},
   "outputs": [],
   "source": [
    "# pathIR = \"/home/desktop/Desktop/22104412_Docs/CVDL/Tropical Cyclone Intensity Estimation/TCIR/Dataset-Extracted-ATLN-EPAC-SH-IO/FInalDataset-Training/Resize224x224/irDataArray.npy\"\n",
    "# pathPMW = \"/home/desktop/Desktop/22104412_Docs/CVDL/Tropical Cyclone Intensity Estimation/TCIR/Dataset-Extracted-ATLN-EPAC-SH-IO/FInalDataset-Training/Resize224x224/pmwDataArray.npy\""
   ]
  },
  {
   "cell_type": "code",
   "execution_count": 119,
   "id": "09c41623",
   "metadata": {},
   "outputs": [],
   "source": [
    "# ir = np.load(pathIR)\n",
    "# ir[np.isnan(ir)] = 0"
   ]
  },
  {
   "cell_type": "code",
   "execution_count": 120,
   "id": "a68e3dda-57f0-4c8d-99eb-bff0e8f2080a",
   "metadata": {},
   "outputs": [],
   "source": [
    "# pmw = np.load(pathPMW)\n",
    "# pmw[np.isnan(pmw)] = 0"
   ]
  },
  {
   "cell_type": "code",
   "execution_count": 121,
   "id": "f8ef2691-5313-4123-bc6a-7ff3d25635f3",
   "metadata": {},
   "outputs": [],
   "source": [
    "# ir = torch.tensor(ir)"
   ]
  },
  {
   "cell_type": "code",
   "execution_count": 122,
   "id": "e9d2d31e-7997-4732-9107-cc44fb1c1503",
   "metadata": {},
   "outputs": [],
   "source": [
    "# pmw = torch.tensor(pmw)"
   ]
  },
  {
   "cell_type": "code",
   "execution_count": 123,
   "id": "1bbab5e4-aa1f-48b6-967f-409366ad3d15",
   "metadata": {},
   "outputs": [],
   "source": [
    "# ir = ir.unsqueeze(0)"
   ]
  },
  {
   "cell_type": "code",
   "execution_count": 124,
   "id": "8ed22b17-55cd-4807-bf57-9f3fbc65df0d",
   "metadata": {},
   "outputs": [],
   "source": [
    "# pmw = pmw.unsqueeze(0)"
   ]
  },
  {
   "cell_type": "code",
   "execution_count": 125,
   "id": "09b270d1-ec38-4792-865f-405901aa1ce9",
   "metadata": {},
   "outputs": [],
   "source": [
    "# dataF = torch.cat((ir,pmw))"
   ]
  },
  {
   "cell_type": "code",
   "execution_count": 126,
   "id": "b13c5ecf-18ea-495e-b373-c9280ac276b8",
   "metadata": {},
   "outputs": [],
   "source": [
    "# del ir, pmw"
   ]
  },
  {
   "cell_type": "code",
   "execution_count": 127,
   "id": "87c06933-5978-4f64-aed2-d0c1e4195164",
   "metadata": {},
   "outputs": [],
   "source": [
    "# dataF = dataF.permute(1,0,2,3)"
   ]
  },
  {
   "cell_type": "code",
   "execution_count": 128,
   "id": "baf91f36-daa4-4251-9333-58020fd961e0",
   "metadata": {},
   "outputs": [],
   "source": [
    "# dataF = dataF.numpy()"
   ]
  },
  {
   "cell_type": "code",
   "execution_count": 129,
   "id": "0e0bd273-98ca-475a-be5d-116e16229e21",
   "metadata": {},
   "outputs": [],
   "source": [
    "# np.save('dataTrain.npy',dataF)"
   ]
  },
  {
   "cell_type": "code",
   "execution_count": 130,
   "id": "720b72cf-8eba-44ed-ab6f-4df851c945dd",
   "metadata": {},
   "outputs": [],
   "source": [
    "# np.save('irTest.npy',irTest)"
   ]
  },
  {
   "cell_type": "markdown",
   "id": "b596e465-99d1-4ca6-808e-f99a517af108",
   "metadata": {},
   "source": [
    "Train data = dataF, dataInfo\n",
    "Test data = irTest, dataTest"
   ]
  },
  {
   "cell_type": "markdown",
   "id": "ce00cb4b",
   "metadata": {},
   "source": [
    "### Backbone of the model is RESNET18 trained on Imagenet- utilising the same for the CI task"
   ]
  },
  {
   "cell_type": "code",
   "execution_count": 85,
   "id": "eb94a48b",
   "metadata": {},
   "outputs": [],
   "source": [
    "modelPretrained = models.resnet18(pretrained=True)"
   ]
  },
  {
   "cell_type": "code",
   "execution_count": 86,
   "id": "bfcb18f9",
   "metadata": {},
   "outputs": [
    {
     "name": "stdout",
     "output_type": "stream",
     "text": [
      "<bound method Module.parameters of ResNet(\n",
      "  (conv1): Conv2d(3, 64, kernel_size=(7, 7), stride=(2, 2), padding=(3, 3), bias=False)\n",
      "  (bn1): BatchNorm2d(64, eps=1e-05, momentum=0.1, affine=True, track_running_stats=True)\n",
      "  (relu): ReLU(inplace=True)\n",
      "  (maxpool): MaxPool2d(kernel_size=3, stride=2, padding=1, dilation=1, ceil_mode=False)\n",
      "  (layer1): Sequential(\n",
      "    (0): BasicBlock(\n",
      "      (conv1): Conv2d(64, 64, kernel_size=(3, 3), stride=(1, 1), padding=(1, 1), bias=False)\n",
      "      (bn1): BatchNorm2d(64, eps=1e-05, momentum=0.1, affine=True, track_running_stats=True)\n",
      "      (relu): ReLU(inplace=True)\n",
      "      (conv2): Conv2d(64, 64, kernel_size=(3, 3), stride=(1, 1), padding=(1, 1), bias=False)\n",
      "      (bn2): BatchNorm2d(64, eps=1e-05, momentum=0.1, affine=True, track_running_stats=True)\n",
      "    )\n",
      "    (1): BasicBlock(\n",
      "      (conv1): Conv2d(64, 64, kernel_size=(3, 3), stride=(1, 1), padding=(1, 1), bias=False)\n",
      "      (bn1): BatchNorm2d(64, eps=1e-05, momentum=0.1, affine=True, track_running_stats=True)\n",
      "      (relu): ReLU(inplace=True)\n",
      "      (conv2): Conv2d(64, 64, kernel_size=(3, 3), stride=(1, 1), padding=(1, 1), bias=False)\n",
      "      (bn2): BatchNorm2d(64, eps=1e-05, momentum=0.1, affine=True, track_running_stats=True)\n",
      "    )\n",
      "  )\n",
      "  (layer2): Sequential(\n",
      "    (0): BasicBlock(\n",
      "      (conv1): Conv2d(64, 128, kernel_size=(3, 3), stride=(2, 2), padding=(1, 1), bias=False)\n",
      "      (bn1): BatchNorm2d(128, eps=1e-05, momentum=0.1, affine=True, track_running_stats=True)\n",
      "      (relu): ReLU(inplace=True)\n",
      "      (conv2): Conv2d(128, 128, kernel_size=(3, 3), stride=(1, 1), padding=(1, 1), bias=False)\n",
      "      (bn2): BatchNorm2d(128, eps=1e-05, momentum=0.1, affine=True, track_running_stats=True)\n",
      "      (downsample): Sequential(\n",
      "        (0): Conv2d(64, 128, kernel_size=(1, 1), stride=(2, 2), bias=False)\n",
      "        (1): BatchNorm2d(128, eps=1e-05, momentum=0.1, affine=True, track_running_stats=True)\n",
      "      )\n",
      "    )\n",
      "    (1): BasicBlock(\n",
      "      (conv1): Conv2d(128, 128, kernel_size=(3, 3), stride=(1, 1), padding=(1, 1), bias=False)\n",
      "      (bn1): BatchNorm2d(128, eps=1e-05, momentum=0.1, affine=True, track_running_stats=True)\n",
      "      (relu): ReLU(inplace=True)\n",
      "      (conv2): Conv2d(128, 128, kernel_size=(3, 3), stride=(1, 1), padding=(1, 1), bias=False)\n",
      "      (bn2): BatchNorm2d(128, eps=1e-05, momentum=0.1, affine=True, track_running_stats=True)\n",
      "    )\n",
      "  )\n",
      "  (layer3): Sequential(\n",
      "    (0): BasicBlock(\n",
      "      (conv1): Conv2d(128, 256, kernel_size=(3, 3), stride=(2, 2), padding=(1, 1), bias=False)\n",
      "      (bn1): BatchNorm2d(256, eps=1e-05, momentum=0.1, affine=True, track_running_stats=True)\n",
      "      (relu): ReLU(inplace=True)\n",
      "      (conv2): Conv2d(256, 256, kernel_size=(3, 3), stride=(1, 1), padding=(1, 1), bias=False)\n",
      "      (bn2): BatchNorm2d(256, eps=1e-05, momentum=0.1, affine=True, track_running_stats=True)\n",
      "      (downsample): Sequential(\n",
      "        (0): Conv2d(128, 256, kernel_size=(1, 1), stride=(2, 2), bias=False)\n",
      "        (1): BatchNorm2d(256, eps=1e-05, momentum=0.1, affine=True, track_running_stats=True)\n",
      "      )\n",
      "    )\n",
      "    (1): BasicBlock(\n",
      "      (conv1): Conv2d(256, 256, kernel_size=(3, 3), stride=(1, 1), padding=(1, 1), bias=False)\n",
      "      (bn1): BatchNorm2d(256, eps=1e-05, momentum=0.1, affine=True, track_running_stats=True)\n",
      "      (relu): ReLU(inplace=True)\n",
      "      (conv2): Conv2d(256, 256, kernel_size=(3, 3), stride=(1, 1), padding=(1, 1), bias=False)\n",
      "      (bn2): BatchNorm2d(256, eps=1e-05, momentum=0.1, affine=True, track_running_stats=True)\n",
      "    )\n",
      "  )\n",
      "  (layer4): Sequential(\n",
      "    (0): BasicBlock(\n",
      "      (conv1): Conv2d(256, 512, kernel_size=(3, 3), stride=(2, 2), padding=(1, 1), bias=False)\n",
      "      (bn1): BatchNorm2d(512, eps=1e-05, momentum=0.1, affine=True, track_running_stats=True)\n",
      "      (relu): ReLU(inplace=True)\n",
      "      (conv2): Conv2d(512, 512, kernel_size=(3, 3), stride=(1, 1), padding=(1, 1), bias=False)\n",
      "      (bn2): BatchNorm2d(512, eps=1e-05, momentum=0.1, affine=True, track_running_stats=True)\n",
      "      (downsample): Sequential(\n",
      "        (0): Conv2d(256, 512, kernel_size=(1, 1), stride=(2, 2), bias=False)\n",
      "        (1): BatchNorm2d(512, eps=1e-05, momentum=0.1, affine=True, track_running_stats=True)\n",
      "      )\n",
      "    )\n",
      "    (1): BasicBlock(\n",
      "      (conv1): Conv2d(512, 512, kernel_size=(3, 3), stride=(1, 1), padding=(1, 1), bias=False)\n",
      "      (bn1): BatchNorm2d(512, eps=1e-05, momentum=0.1, affine=True, track_running_stats=True)\n",
      "      (relu): ReLU(inplace=True)\n",
      "      (conv2): Conv2d(512, 512, kernel_size=(3, 3), stride=(1, 1), padding=(1, 1), bias=False)\n",
      "      (bn2): BatchNorm2d(512, eps=1e-05, momentum=0.1, affine=True, track_running_stats=True)\n",
      "    )\n",
      "  )\n",
      "  (avgpool): AdaptiveAvgPool2d(output_size=(1, 1))\n",
      "  (fc): Linear(in_features=512, out_features=1000, bias=True)\n",
      ")>\n"
     ]
    }
   ],
   "source": [
    "modelPretrained\n",
    "print(modelPretrained.parameters)"
   ]
  },
  {
   "cell_type": "code",
   "execution_count": 87,
   "id": "12f3e858",
   "metadata": {},
   "outputs": [],
   "source": [
    "numInputFeatures = modelPretrained.fc.in_features\n",
    "modelPretrained.fc = nn.Linear(numInputFeatures, 8)\n",
    "modelPretrained.conv1 = nn.Conv2d(2, 64, kernel_size=(7, 7), stride=(2, 2), padding=(3, 3), bias=False)\n",
    "modelPretrained = modelPretrained.to(device)"
   ]
  },
  {
   "cell_type": "code",
   "execution_count": 88,
   "id": "dd4b9e49",
   "metadata": {},
   "outputs": [],
   "source": [
    "model = modelPretrained.double()"
   ]
  },
  {
   "cell_type": "markdown",
   "id": "735739ce",
   "metadata": {},
   "source": [
    "### Pytorch accepts data in Tensor form - converting np to tensor and delteing the variable in anaconda to stop the kernel from dying"
   ]
  },
  {
   "cell_type": "code",
   "execution_count": 89,
   "id": "f2a662b2",
   "metadata": {},
   "outputs": [
    {
     "data": {
      "text/plain": [
       "True"
      ]
     },
     "execution_count": 89,
     "metadata": {},
     "output_type": "execute_result"
    }
   ],
   "source": [
    "torch.cuda.is_available()"
   ]
  },
  {
   "cell_type": "code",
   "execution_count": 37,
   "id": "221ff0c1",
   "metadata": {},
   "outputs": [],
   "source": [
    "# irTensor = torch.tensor(irData)\n",
    "# del irData"
   ]
  },
  {
   "cell_type": "code",
   "execution_count": 38,
   "id": "56a1f2b6",
   "metadata": {},
   "outputs": [],
   "source": [
    "# pmwTensor = torch.tensor(pwmData)\n",
    "# del pwmData"
   ]
  },
  {
   "cell_type": "code",
   "execution_count": 100,
   "id": "f7a50320",
   "metadata": {},
   "outputs": [],
   "source": [
    "trainDS = TrainDataset(dataF, dataInfo, transform=training_transform)\n",
    "# anchorNeighborIndexSampler = AnchorNeighborIndex(trainDS,12)\n",
    "trainDL = DataLoader(dataset = trainDS, batch_size = 12, shuffle = False, drop_last=False)\n",
    "data = next(iter(trainDL))\n",
    "im,lab = data"
   ]
  },
  {
   "cell_type": "code",
   "execution_count": 101,
   "id": "7db30601",
   "metadata": {},
   "outputs": [
    {
     "name": "stdout",
     "output_type": "stream",
     "text": [
      "torch.Size([12, 2, 224, 224])\n"
     ]
    }
   ],
   "source": [
    "print(im.shape)"
   ]
  },
  {
   "cell_type": "code",
   "execution_count": 102,
   "id": "6ae8143a",
   "metadata": {},
   "outputs": [],
   "source": [
    "valDS = ValDataset(irTest,dataTest,transform=testing_transform)\n",
    "valDL = DataLoader(dataset=valDS,batch_size = 12, shuffle = False, drop_last=False)\n",
    "dataval = next(iter(valDL))\n",
    "imval,labval=dataval"
   ]
  },
  {
   "cell_type": "code",
   "execution_count": 103,
   "id": "9f8828d9-efe7-4315-b278-315ee2a39832",
   "metadata": {},
   "outputs": [
    {
     "data": {
      "text/plain": [
       "torch.Size([12, 2, 224, 224])"
      ]
     },
     "execution_count": 103,
     "metadata": {},
     "output_type": "execute_result"
    }
   ],
   "source": [
    "imval.shape"
   ]
  },
  {
   "cell_type": "code",
   "execution_count": 104,
   "id": "131fedd6",
   "metadata": {},
   "outputs": [
    {
     "name": "stdout",
     "output_type": "stream",
     "text": [
      "5875\n",
      "382\n"
     ]
    }
   ],
   "source": [
    "print(len(trainDL))\n",
    "print(len(valDL))"
   ]
  },
  {
   "cell_type": "code",
   "execution_count": 105,
   "id": "162cd7fd",
   "metadata": {},
   "outputs": [],
   "source": [
    "# #model instance\n",
    "# modelPretrained = models.resnet18(pretrained=False)\n",
    "# numInputFeatures = modelPretrained.fc.in_features\n",
    "# modelPretrained.fc = nn.Linear(numInputFeatures, 8)\n",
    "# modelPretrained.conv1 = nn.Conv2d(1, 64, kernel_size=(7, 7), stride=(2, 2), padding=(3, 3), bias=False)\n",
    "# modelPretrained = modelPretrained.double()\n",
    "# CIExtractor = torch.load('/home/desktop/Desktop/22104412_Docs/CVDL/CVDL- Possible Models/Implementation - SOTA Baselines/checkpoint_Complete_24_per_batch3')\n",
    "# modelPretrained = modelPretrained.to(device)\n",
    "# modelPretrained.load_state_dict(CIExtractor)"
   ]
  },
  {
   "cell_type": "code",
   "execution_count": 106,
   "id": "6d0a4df8-bfdf-4e5a-a572-285178a939ab",
   "metadata": {},
   "outputs": [
    {
     "data": {
      "text/plain": [
       "<torch.utils.hooks.RemovableHandle at 0x7f37d46f8850>"
      ]
     },
     "execution_count": 106,
     "metadata": {},
     "output_type": "execute_result"
    }
   ],
   "source": [
    "model.avgpool.register_forward_hook(getActivation('avgpool'))"
   ]
  },
  {
   "cell_type": "code",
   "execution_count": 107,
   "id": "4f99ead4",
   "metadata": {},
   "outputs": [
    {
     "name": "stderr",
     "output_type": "stream",
     "text": [
      "  0%|          | 14/5875 [00:14<1:38:09,  1.00s/batch, TrainAccuracyPerBatch=0.0674, loss=1.07, totalLoss=0.00406]  \n"
     ]
    },
    {
     "ename": "KeyboardInterrupt",
     "evalue": "",
     "output_type": "error",
     "traceback": [
      "\u001b[0;31m---------------------------------------------------------------------------\u001b[0m",
      "\u001b[0;31mKeyboardInterrupt\u001b[0m                         Traceback (most recent call last)",
      "Cell \u001b[0;32mIn[107], line 37\u001b[0m\n\u001b[1;32m     35\u001b[0m loss \u001b[38;5;241m=\u001b[39m \u001b[38;5;241m1.3\u001b[39m\u001b[38;5;241m*\u001b[39mlossCE\u001b[38;5;241m+\u001b[39mlossIDC\n\u001b[1;32m     36\u001b[0m loss\u001b[38;5;241m.\u001b[39mbackward()\n\u001b[0;32m---> 37\u001b[0m totalLoss\u001b[38;5;241m+\u001b[39m\u001b[38;5;241m=\u001b[39m\u001b[43mloss\u001b[49m\u001b[38;5;241;43m.\u001b[39;49m\u001b[43mitem\u001b[49m\u001b[43m(\u001b[49m\u001b[43m)\u001b[49m\n\u001b[1;32m     38\u001b[0m optimizer_ft\u001b[38;5;241m.\u001b[39mstep()\n\u001b[1;32m     39\u001b[0m y \u001b[38;5;241m=\u001b[39m (predindex\u001b[38;5;241m==\u001b[39mlabelsind)\u001b[38;5;241m.\u001b[39msum()\u001b[38;5;241m.\u001b[39mitem()\n",
      "\u001b[0;31mKeyboardInterrupt\u001b[0m: "
     ]
    }
   ],
   "source": [
    "\n",
    "warnings.simplefilter('ignore', UserWarning)\n",
    "\n",
    "batchsize = 24\n",
    "num_epochs = 50\n",
    "criterion = nn.CrossEntropyLoss()\n",
    "optimizer_ft = torch.optim.SGD(model.parameters(), lr=0.001, momentum=0.9)\n",
    "start_time = time.time()\n",
    "trainLoss=[]\n",
    "valLoss = []\n",
    "trainAcc = []\n",
    "valAcc = []\n",
    "\n",
    "for epoch in range(num_epochs):\n",
    "    with tqdm(trainDL, unit='batch') as tepoch:\n",
    "        trainAccuracy = 0\n",
    "        totalLoss = 0\n",
    "        #print(\"Epoch {} running\".format(epoch))# know what is the epoch running\n",
    "        model.train()\n",
    "        for images,lab in tepoch:\n",
    "            labels = onehotencoding(lab)\n",
    "            images = images.to(device)\n",
    "            labels = labels.to(device)\n",
    "            h1 = model.avgpool.register_forward_hook(getActivation('avgpool'))\n",
    "            avgpool_list=[]\n",
    "            optimizer_ft.zero_grad()\n",
    "            outputs = (model(images.double())).float()\n",
    "            _,predindex = torch.max(outputs,dim=1)\n",
    "            _,labelsind = torch.max(labels,dim=1)\n",
    "            ## feature extraction for IDC loss\n",
    "            avgpool_list.append(activation['avgpool'])\n",
    "            features = avgpool_list[0]\n",
    "            h1.remove()\n",
    "            lossIDC = IDCLoss(features,lab)\n",
    "            lossCE = criterion(outputs,labels.float())\n",
    "            loss = 1.3*lossCE+lossIDC\n",
    "            loss.backward()\n",
    "            totalLoss+=loss.item()\n",
    "            optimizer_ft.step()\n",
    "            y = (predindex==labelsind).sum().item()\n",
    "            batchAccuracy = y/batchsize\n",
    "            trainAccuracy += y\n",
    "            totaltrainAccuracybatch = trainAccuracy/(len(trainDL)*batchsize)\n",
    "            tepoch.set_postfix(loss=loss.item(),totalLoss =totalLoss/len(trainDL), TrainAccuracyPerBatch = 100.*totaltrainAccuracybatch)      \n",
    "        model.eval()\n",
    "        with torch.no_grad():\n",
    "              with tqdm(valDL, unit='batch') as tepoch:\n",
    "                    total = 0\n",
    "                    correct = 0\n",
    "                    for images,lab in tepoch:\n",
    "                        labels = onehotencoding(lab)\n",
    "                        images = images.to(device)\n",
    "                        labels = labels.to(device)\n",
    "                        outval = (model(images.double())).float()\n",
    "                        _,predindexval = torch.max(outval,dim=1)\n",
    "                        _,labelsindval = torch.max(labels,dim=1)\n",
    "                        total += labels.size(0)\n",
    "                        correct += (predindexval == labelsindval).sum().item()\n",
    "                        lossv = criterion(outval,labels.float())\n",
    "                        val_loss = lossv.item()\n",
    "    pathSave = \"./checkpoint_Complete_12_per_batch_irpmw\"+str(epoch)\n",
    "    torch.save(model.state_dict(), pathSave)\n",
    "    print('Epoch [{}], Loss_t: {:.4f}, train_acc:{:.4f}, val_acc:{:.4f}'.format(epoch, totalLoss/len(trainDL), 100.*totaltrainAccuracybatch, 100.*correct/total))\n",
    "    trainLoss.append(totalLoss)\n",
    "    valLoss.append(val_loss)\n",
    "    trainAcc.append(totaltrainAccuracybatch)\n",
    "    valAcc.append(correct/total)"
   ]
  },
  {
   "cell_type": "code",
   "execution_count": 39,
   "id": "c6695f2a-196e-4cec-a0c6-03755a9cff8f",
   "metadata": {},
   "outputs": [],
   "source": [
    "np.save('tl_24.npy',trainLoss)\n",
    "np.save('vl_24.npy',valLoss)\n",
    "np.save('ta_24.npy',trainAcc)\n",
    "np.save('va_24.npy',valAcc)"
   ]
  },
  {
   "cell_type": "code",
   "execution_count": 42,
   "id": "ca787abe",
   "metadata": {},
   "outputs": [
    {
     "data": {
      "image/png": "[encoded data removed]",
      "text/plain": [
       "<Figure size 640x480 with 1 Axes>"
      ]
     },
     "metadata": {},
     "output_type": "display_data"
    }
   ],
   "source": [
    "x = np.linspace(1,50,num = 50)\n",
    "y1 = trainAcc\n",
    "y2 = valAcc\n",
    "plt.plot(x,y1,label='train Acc')\n",
    "plt.plot(x,y2,label='val Acc')\n",
    "plt.title('Loss vs. Epoch')\n",
    "plt.xlabel('Epoch')\n",
    "plt.ylabel('Loss')\n",
    "plt.legend(loc='best')\n",
    "plt.show()"
   ]
  },
  {
   "cell_type": "code",
   "execution_count": 47,
   "id": "95c2df4e",
   "metadata": {},
   "outputs": [
    {
     "data": {
      "image/png": "[encoded data removed]",
      "text/plain": [
       "<Figure size 640x480 with 1 Axes>"
      ]
     },
     "metadata": {},
     "output_type": "display_data"
    }
   ],
   "source": [
    "x = np.linspace(1,50,num = 50)\n",
    "y1 = [trainLoss[i]/len(trainDL) for i in range(len(trainLoss))]\n",
    "y2 = valLoss\n",
    "plt.plot(x,y1,label='trainLoss')\n",
    "plt.plot(x,y2,label='valLoss')\n",
    "plt.title('Loss vs. Epoch')\n",
    "plt.xlabel('Epoch')\n",
    "plt.ylabel('Loss')\n",
    "plt.legend(loc='best')\n",
    "plt.show()"
   ]
  }
 ],
 "metadata": {
  "kernelspec": {
   "display_name": "Python 3 (ipykernel)",
   "language": "python",
   "name": "python3"
  },
  "language_info": {
   "codemirror_mode": {
    "name": "ipython",
    "version": 3
   },
   "file_extension": ".py",
   "mimetype": "text/x-python",
   "name": "python",
   "nbconvert_exporter": "python",
   "pygments_lexer": "ipython3",
   "version": "3.10.9"
  },
  "vscode": {
   "interpreter": {
    "hash": "850169ec04041750a2d4ca562ba8d64a5fe7180025d00986f756d9c8fbb567ef"
   }
  }
 },
 "nbformat": 4,
 "nbformat_minor": 5
}
