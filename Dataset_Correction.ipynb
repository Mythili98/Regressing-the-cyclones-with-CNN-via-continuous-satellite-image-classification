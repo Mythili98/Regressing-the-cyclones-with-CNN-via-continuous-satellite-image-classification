{
 "cells": [
  {
   "cell_type": "code",
   "execution_count": 2,
   "id": "401e4167-a9a7-4a23-a53f-fb9a571fa74e",
   "metadata": {},
   "outputs": [],
   "source": [
    "import numpy as np\n",
    "import pandas as pd\n",
    "from matplotlib import pyplot as plt\n",
    "import h5py\n",
    "import torch\n",
    "from mpl_toolkits.axes_grid1 import ImageGrid\n",
    "from scipy.interpolate import griddata\n",
    "import random\n",
    "import copy\n",
    "import cv2 as cv"
   ]
  },
  {
   "cell_type": "code",
   "execution_count": 2,
   "id": "3353bace-3406-4ef4-bbe5-a178c0450e46",
   "metadata": {},
   "outputs": [],
   "source": [
    "def filter_images(images, threshold):\n",
    "    filtered_images = []\n",
    "    indexnew = []\n",
    "    count = 0\n",
    "    for image in images:\n",
    "        count = count+1\n",
    "        y = np.argwhere(np.isnan(image))\n",
    "        num_nan_pixels = y.shape[0]\n",
    "        total_pixels = image.shape[0] * image.shape[1]\n",
    "        percent_nan = num_nan_pixels / total_pixels\n",
    "        if percent_nan <= threshold:\n",
    "            filtered_images.append(image)\n",
    "            indexnew.append(count)\n",
    "    return filtered_images, indexnew"
   ]
  },
  {
   "cell_type": "code",
   "execution_count": 3,
   "id": "7616b801-110c-4316-883f-4865670422a9",
   "metadata": {},
   "outputs": [],
   "source": [
    "def interpolate_missing_values(image):\n",
    "    # Create a binary mask where True indicates missing values\n",
    "    mask = np.isnan(image)\n",
    "\n",
    "    # Get the coordinates of valid (non-missing) pixels\n",
    "    coords = np.argwhere(~mask)\n",
    "\n",
    "    # Get the pixel values at the valid coordinates\n",
    "    values = image[~mask]\n",
    "\n",
    "    # Generate a grid of coordinates for the missing pixels\n",
    "    missing_coords = np.argwhere(mask)\n",
    "\n",
    "    # Interpolate the missing pixel values using griddata\n",
    "    interpolated_values = griddata(coords, values, missing_coords, method='linear')\n",
    "\n",
    "    # Replace the missing pixel values with the interpolated values\n",
    "    interpolated_image = np.copy(image)\n",
    "    interpolated_image[mask] = interpolated_values\n",
    "\n",
    "    return interpolated_image"
   ]
  },
  {
   "cell_type": "code",
   "execution_count": 4,
   "id": "c20c2868-3981-4d03-95dd-1c4d79e163d6",
   "metadata": {},
   "outputs": [],
   "source": [
    "def image_impute(images,indexs):\n",
    "    imputed_images = []\n",
    "    for idx,image in enumerate(images):\n",
    "        print(idx)\n",
    "        if idx in indexs:\n",
    "            im = interpolate_missing_values(image)\n",
    "            imputed_images.append(im)\n",
    "        else:\n",
    "            imputed_images.append(image)\n",
    "    return imputed_images"
   ]
  },
  {
   "cell_type": "markdown",
   "id": "820c51d9-06dd-467e-acc3-91f3d769c9a5",
   "metadata": {},
   "source": [
    "PMW data"
   ]
  },
  {
   "cell_type": "code",
   "execution_count": 3,
   "id": "4b5e7cfe-3186-48a9-bc93-4fa48146aaaa",
   "metadata": {},
   "outputs": [],
   "source": [
    "IRIndexs = np.load('irIndexs.npy')\n",
    "PMWIndexs = np.load('pmwIndexs.npy')"
   ]
  },
  {
   "cell_type": "code",
   "execution_count": 4,
   "id": "3f4defb7-25f6-4385-8a01-f4e44dfa5b6a",
   "metadata": {},
   "outputs": [],
   "source": [
    "finalIndexs = list(set(IRIndexs).intersection(set(PMWIndexs)))"
   ]
  },
  {
   "cell_type": "code",
   "execution_count": 5,
   "id": "fd74094e-c020-4cb6-a655-653ac2f51eaf",
   "metadata": {},
   "outputs": [],
   "source": [
    "keepimagep = []\n",
    "originalIndexp = []\n",
    "for i in range(len(PMWIndexs)):\n",
    "    if PMWIndexs[i] in IRIndexs:\n",
    "        keepimagep.append(i)\n",
    "        originalIndexp.append(PMWIndexs[i])"
   ]
  },
  {
   "cell_type": "code",
   "execution_count": 6,
   "id": "84da313a-39ee-47c4-8cce-d97b10d6da24",
   "metadata": {},
   "outputs": [],
   "source": [
    "keepimager = []\n",
    "originalIndexr = []\n",
    "for i in range(len(IRIndexs)):\n",
    "    if IRIndexs[i] in PMWIndexs:\n",
    "        keepimager.append(i)\n",
    "        originalIndexr.append(IRIndexs[i])"
   ]
  },
  {
   "cell_type": "code",
   "execution_count": 7,
   "id": "748dff8b-e715-4287-adfd-393cba70c5fe",
   "metadata": {},
   "outputs": [
    {
     "data": {
      "text/plain": [
       "69456"
      ]
     },
     "execution_count": 7,
     "metadata": {},
     "output_type": "execute_result"
    }
   ],
   "source": [
    "len(originalIndexp)"
   ]
  },
  {
   "cell_type": "code",
   "execution_count": 8,
   "id": "1580a3e3-da07-4da9-9bea-7910a72568e2",
   "metadata": {},
   "outputs": [
    {
     "data": {
      "text/plain": [
       "69456"
      ]
     },
     "execution_count": 8,
     "metadata": {},
     "output_type": "execute_result"
    }
   ],
   "source": [
    "len(originalIndexr)"
   ]
  },
  {
   "cell_type": "code",
   "execution_count": 10,
   "id": "5ac83ed2-bf70-472f-a32e-4989f2369f1e",
   "metadata": {},
   "outputs": [
    {
     "name": "stdout",
     "output_type": "stream",
     "text": [
      "SAME\n"
     ]
    }
   ],
   "source": [
    "count = 0\n",
    "for i in range(len(originalIndexp)):\n",
    "    if originalIndexp[i] == finalIndexs[i]:\n",
    "        count = count+1\n",
    "\n",
    "if count == len(originalIndexp):\n",
    "    print('SAME')"
   ]
  },
  {
   "cell_type": "code",
   "execution_count": 49,
   "id": "786bb3c3-a66a-4a87-b5b5-9127b0cb7ed3",
   "metadata": {},
   "outputs": [],
   "source": [
    "PMWData = np.load('PMWData_Imputed.npy')"
   ]
  },
  {
   "cell_type": "code",
   "execution_count": 51,
   "id": "14c3584e-cb1b-42c1-8dbf-cdd006bf2d67",
   "metadata": {},
   "outputs": [],
   "source": [
    "PMWData = PMWData[keepimagep,:,:]"
   ]
  },
  {
   "cell_type": "code",
   "execution_count": 52,
   "id": "9f153fa7-1a3c-489c-bb1b-da2bc7bd70bd",
   "metadata": {},
   "outputs": [
    {
     "data": {
      "text/plain": [
       "(69456, 224, 224)"
      ]
     },
     "execution_count": 52,
     "metadata": {},
     "output_type": "execute_result"
    }
   ],
   "source": [
    "PMWData.shape"
   ]
  },
  {
   "cell_type": "code",
   "execution_count": 53,
   "id": "dfbe645a-6dc9-4819-b714-36245eb3c718",
   "metadata": {},
   "outputs": [],
   "source": [
    "np.save('./FinalDataset/PMWData.npy',PMWData)"
   ]
  },
  {
   "cell_type": "code",
   "execution_count": 54,
   "id": "58da544a-147e-44b5-9453-4c7bee5c4273",
   "metadata": {},
   "outputs": [],
   "source": [
    "del PMWData"
   ]
  },
  {
   "cell_type": "code",
   "execution_count": 11,
   "id": "8b0ad9d9-ce2a-4c09-bd57-f021dbacca2b",
   "metadata": {},
   "outputs": [],
   "source": [
    "dataInfo = '/home/desktop/Desktop/22104412_Docs/CVDL/Tropical Cyclone Intensity Estimation/TCIR/TCIR-ATLN_EPAC_WPAC.h5'\n",
    "Info1 = pd.read_hdf(dataInfo, key=\"info\",mode = 'r')"
   ]
  },
  {
   "cell_type": "code",
   "execution_count": 13,
   "id": "bedda75b-92ef-4b35-838e-243081213583",
   "metadata": {},
   "outputs": [],
   "source": [
    "dataInfo = '/home/desktop/Desktop/22104412_Docs/CVDL/Tropical Cyclone Intensity Estimation/TCIR/TCIR-CPAC_IO_SH.h5'\n",
    "Info2 = pd.read_hdf(dataInfo, key = \"info\", mode = 'r')"
   ]
  },
  {
   "cell_type": "code",
   "execution_count": 14,
   "id": "63f310fe-bd78-446a-947d-db55f6cd8a3c",
   "metadata": {},
   "outputs": [],
   "source": [
    "Info = pd.concat((Info1,Info2))"
   ]
  },
  {
   "cell_type": "code",
   "execution_count": 15,
   "id": "075f5b6a-a3dc-40d5-aeca-c6eb1922d050",
   "metadata": {},
   "outputs": [],
   "source": [
    "vmax = np.array(Info['Vmax'])"
   ]
  },
  {
   "cell_type": "code",
   "execution_count": 17,
   "id": "d0e95890-32ab-4bdf-ae34-7513c0ab412a",
   "metadata": {},
   "outputs": [
    {
     "data": {
      "text/plain": [
       "(69456,)"
      ]
     },
     "execution_count": 17,
     "metadata": {},
     "output_type": "execute_result"
    }
   ],
   "source": [
    "vmax = vmax[finalIndexs]\n",
    "vmax.shape"
   ]
  },
  {
   "cell_type": "code",
   "execution_count": 18,
   "id": "234ae281-9caf-4102-858f-6604e256a4ad",
   "metadata": {},
   "outputs": [],
   "source": [
    "np.save('VmaxTrain.npy',vmax)"
   ]
  },
  {
   "cell_type": "code",
   "execution_count": 31,
   "id": "28896c2c-74e4-4cae-bd42-095558f17b12",
   "metadata": {},
   "outputs": [],
   "source": [
    "TestData = np.load('./FinalDataset/TestData.npy')"
   ]
  },
  {
   "cell_type": "code",
   "execution_count": 32,
   "id": "b47281e2-81db-4a5d-b533-0b99e1c30378",
   "metadata": {},
   "outputs": [
    {
     "data": {
      "text/plain": [
       "(4561, 201, 201, 2)"
      ]
     },
     "execution_count": 32,
     "metadata": {},
     "output_type": "execute_result"
    }
   ],
   "source": [
    "TestData.shape"
   ]
  },
  {
   "cell_type": "code",
   "execution_count": 26,
   "id": "9364a22f-5162-4176-b2a5-a4045a059cad",
   "metadata": {},
   "outputs": [
    {
     "data": {
      "text/plain": [
       "array([], dtype=int64)"
      ]
     },
     "execution_count": 26,
     "metadata": {},
     "output_type": "execute_result"
    }
   ],
   "source": [
    "indexNan"
   ]
  },
  {
   "cell_type": "code",
   "execution_count": 27,
   "id": "1289bd1c-2f4a-4d0d-b566-5906bee69792",
   "metadata": {},
   "outputs": [
    {
     "ename": "NameError",
     "evalue": "name 'filter_images' is not defined",
     "output_type": "error",
     "traceback": [
      "\u001b[0;31m---------------------------------------------------------------------------\u001b[0m",
      "\u001b[0;31mNameError\u001b[0m                                 Traceback (most recent call last)",
      "Cell \u001b[0;32mIn[27], line 1\u001b[0m\n\u001b[0;32m----> 1\u001b[0m Filtered, indexfiltered \u001b[38;5;241m=\u001b[39m \u001b[43mfilter_images\u001b[49m(dataIR, \u001b[38;5;241m0.1\u001b[39m)\n",
      "\u001b[0;31mNameError\u001b[0m: name 'filter_images' is not defined"
     ]
    }
   ],
   "source": [
    "Filtered, indexfiltered = filter_images(dataIR, 0.1)"
   ]
  },
  {
   "cell_type": "code",
   "execution_count": 28,
   "id": "2e0b9356-89c9-40d1-b383-3d73476cceac",
   "metadata": {},
   "outputs": [
    {
     "ename": "NameError",
     "evalue": "name 'indexfiltered' is not defined",
     "output_type": "error",
     "traceback": [
      "\u001b[0;31m---------------------------------------------------------------------------\u001b[0m",
      "\u001b[0;31mNameError\u001b[0m                                 Traceback (most recent call last)",
      "Cell \u001b[0;32mIn[28], line 1\u001b[0m\n\u001b[0;32m----> 1\u001b[0m indexfiltered \u001b[38;5;241m=\u001b[39m np\u001b[38;5;241m.\u001b[39marray(\u001b[43mindexfiltered\u001b[49m)\n\u001b[1;32m      2\u001b[0m indexfiltered \u001b[38;5;241m=\u001b[39m indexfiltered\u001b[38;5;241m-\u001b[39m\u001b[38;5;241m1\u001b[39m\n\u001b[1;32m      3\u001b[0m indexfiltered \u001b[38;5;241m=\u001b[39m indexfiltered\u001b[38;5;241m.\u001b[39mtolist()\n",
      "\u001b[0;31mNameError\u001b[0m: name 'indexfiltered' is not defined"
     ]
    }
   ],
   "source": [
    "indexfiltered = np.array(indexfiltered)\n",
    "indexfiltered = indexfiltered-1\n",
    "indexfiltered = indexfiltered.tolist()\n",
    "len(indexfiltered)"
   ]
  },
  {
   "cell_type": "code",
   "execution_count": null,
   "id": "a938d859-2cf0-4001-b5d1-681d449ada48",
   "metadata": {},
   "outputs": [],
   "source": [
    "fig = plt.figure(figsize=(20., 20.))\n",
    "grid = ImageGrid(fig, 111, \n",
    "                 nrows_ncols=(10,10),  # creates 2x2 grid of axes\n",
    "                 axes_pad=0,  # pad between axes\n",
    "                )\n",
    "\n",
    "for ax, im in zip(grid, Filtered[60200:60300]):\n",
    "    ax.imshow(im, cmap = 'gray')\n",
    "\n",
    "# plt.savefig('examples_NaN_threshold_0.1.png')\n",
    "plt.show()"
   ]
  },
  {
   "cell_type": "markdown",
   "id": "64f19ccf-7f0b-4655-aca0-664a6a9b9fd7",
   "metadata": {},
   "source": [
    "Lets impute this. Then we will have 69493 images without Nan.\n",
    "Then we will do the same for the PMW data. Then we will take the indices common for both and concatenate both"
   ]
  },
  {
   "cell_type": "code",
   "execution_count": null,
   "id": "f1ea995f-27c4-42d6-a6fd-1abe29c28dc3",
   "metadata": {},
   "outputs": [],
   "source": [
    "z = np.where(np.isnan(Filtered))\n",
    "z = (np.unique(z[0])).tolist()"
   ]
  },
  {
   "cell_type": "code",
   "execution_count": null,
   "id": "8ae71de3-7672-45de-9deb-6aae9c7f2d21",
   "metadata": {},
   "outputs": [],
   "source": [
    "len(z)"
   ]
  },
  {
   "cell_type": "code",
   "execution_count": null,
   "id": "527756d9-8674-4cc3-ad5d-2c36b9f108f4",
   "metadata": {},
   "outputs": [],
   "source": [
    "Filtered = image_impute(Filtered,z)"
   ]
  },
  {
   "cell_type": "code",
   "execution_count": null,
   "id": "9a83f4df-087d-406b-82eb-5dc774c12b58",
   "metadata": {},
   "outputs": [],
   "source": [
    "for i in t:\n",
    "    Image = Filtered[i]\n",
    "    nan_ind = np.where(np.isnan(Image))\n",
    "    Image[np.isnan(Image)] = np.mean(Image[~nan_ind[0],~nan_ind[1]])\n",
    "    Filtered[i] = Image"
   ]
  },
  {
   "cell_type": "code",
   "execution_count": null,
   "id": "bc6fc006-ca20-4650-a3f1-64806ee72103",
   "metadata": {},
   "outputs": [],
   "source": [
    "t = np.where(np.isnan(Filtered))"
   ]
  },
  {
   "cell_type": "code",
   "execution_count": null,
   "id": "cd54c8f8-5e47-4fef-b0cd-f01866cbb294",
   "metadata": {},
   "outputs": [],
   "source": [
    "t = (np.unique(t[0])).tolist()"
   ]
  },
  {
   "cell_type": "code",
   "execution_count": null,
   "id": "dabe7b70-a3dd-4728-91b3-cebf50d8f239",
   "metadata": {},
   "outputs": [],
   "source": [
    "t"
   ]
  },
  {
   "cell_type": "code",
   "execution_count": null,
   "id": "a78d7285-7b86-43d1-840b-47785ba6bfa9",
   "metadata": {},
   "outputs": [],
   "source": [
    "np.save('pmwIndexs.npy', indexfiltered)"
   ]
  },
  {
   "cell_type": "code",
   "execution_count": null,
   "id": "b5f0312a-332a-4efd-9a92-6793623c8569",
   "metadata": {},
   "outputs": [],
   "source": [
    "#Filtered is my IR data array\n",
    "np.save('PMWData_Imputed.npy',Filtered)"
   ]
  },
  {
   "cell_type": "code",
   "execution_count": null,
   "id": "e6cbd55c-90f3-4f62-a118-22847c7c9110",
   "metadata": {},
   "outputs": [],
   "source": []
  }
 ],
 "metadata": {
  "kernelspec": {
   "display_name": "Python 3 (ipykernel)",
   "language": "python",
   "name": "python3"
  },
  "language_info": {
   "codemirror_mode": {
    "name": "ipython",
    "version": 3
   },
   "file_extension": ".py",
   "mimetype": "text/x-python",
   "name": "python",
   "nbconvert_exporter": "python",
   "pygments_lexer": "ipython3",
   "version": "3.10.9"
  }
 },
 "nbformat": 4,
 "nbformat_minor": 5
}
